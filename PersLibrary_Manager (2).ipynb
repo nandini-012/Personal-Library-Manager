{
  "nbformat": 4,
  "nbformat_minor": 0,
  "metadata": {
    "colab": {
      "provenance": []
    },
    "kernelspec": {
      "name": "python3",
      "display_name": "Python 3"
    },
    "language_info": {
      "name": "python"
    }
  },
  "cells": [
    {
      "cell_type": "code",
      "execution_count": null,
      "metadata": {
        "id": "wga3B2T7kVRS"
      },
      "outputs": [],
      "source": [
        "# importing os as module\n",
        "import os"
      ]
    },
    {
      "cell_type": "code",
      "source": [
        "#list for holding book dictionaries\n",
        "library =[]"
      ],
      "metadata": {
        "id": "JqVN2icClEMO"
      },
      "execution_count": null,
      "outputs": []
    },
    {
      "cell_type": "code",
      "source": [
        "# FUnction to add books\n",
        "def add_bks(title,author,genre,year,status =\"unread\"):\n",
        "  book ={\n",
        "      \"title\":title.strip(),\n",
        "      \"author\":author.strip(),\n",
        "      \"genre\":genre.strip(),\n",
        "      \"year\":int(year),\n",
        "      \"status\":status.lower()\n",
        "  }\n",
        "  library.append(book)\n",
        "  print(f\"Book '{title}' added.\")\n",
        "\n"
      ],
      "metadata": {
        "id": "QiyERdpplKUu"
      },
      "execution_count": null,
      "outputs": []
    },
    {
      "cell_type": "code",
      "source": [
        "# Function to list books\n",
        "def list_books(sorted_by_year=False):\n",
        "    if not library:\n",
        "        print(\"Library is empty.\")\n",
        "        return\n",
        "    books = sorted(library, key=lambda x: x[\"year\"]) if sort_by_year else library\n",
        "    for idx, book in enumerate(books, start=1):\n",
        "        print(f\"{i}. {book['title']} by {book['author']} [{book['genre']}, {book['year']}] – {book['status'].capitalize()}\")"
      ],
      "metadata": {
        "id": "M-wSUN0hmEx4"
      },
      "execution_count": null,
      "outputs": []
    },
    {
      "cell_type": "code",
      "source": [
        "# Function search by author\n",
        "def srch_by_author(author_name):\n",
        "  return[book for book in library if author_name.lower() in book['author'].lower()]"
      ],
      "metadata": {
        "id": "t5g3QUvZpB7t"
      },
      "execution_count": null,
      "outputs": []
    },
    {
      "cell_type": "code",
      "source": [
        "def delete_book(title):\n",
        " global library\n",
        " library = list(filter(lambda book: book['title'].lower() != title.lower(), library))\n",
        " print(f\"Book titled '{title}' has been removed if it existed.\")"
      ],
      "metadata": {
        "id": "l7uV9cheqb7Y"
      },
      "execution_count": null,
      "outputs": []
    },
    {
      "cell_type": "code",
      "source": [
        "#Show reading summary\n",
        "def show_reading_summary():\n",
        "  if not library:\n",
        "    print(\"No books in library\")\n",
        "    return\n",
        "  read = len(list(filter(lambda x:x['status']== 'read',library)))\n",
        "  unread = len(library) -read\n",
        "  print(f\"Read: {read} books ({(read/len(library))*100:.2f}%)\")\n",
        "  print(f\"Unread: {unread} books ({(unread/len(library))*100:.2f}%)\")"
      ],
      "metadata": {
        "id": "Fja2Q_r7sd6u"
      },
      "execution_count": 8,
      "outputs": []
    },
    {
      "cell_type": "code",
      "source": [
        "def uppercase_titles():\n",
        "    titles = list(map(lambda b: b['title'].upper(),library))\n",
        "    print(\"Book titles (UPPERCASE):\")\n",
        "    for title in titles:\n",
        "        print(\"_\",title)"
      ],
      "metadata": {
        "id": "HqC8D8YYpse9"
      },
      "execution_count": 9,
      "outputs": []
    },
    {
      "cell_type": "code",
      "source": [
        "def save_to_file(filename):\n",
        "  try:\n",
        "   with open(filename, 'w') as f:\n",
        "    for book in library:\n",
        "      line = f\"{book['title']},{book['author']},{book['genre']},{book['year']},{book['status']},\"\n",
        "      f.write(line)\n",
        "      print(f\"Saved{len(library)} books to {filename}\")\n",
        "  except Exception as e:\n",
        "        print(\"Error saving file\",e)"
      ],
      "metadata": {
        "id": "61k7DU1Fszbs"
      },
      "execution_count": 15,
      "outputs": []
    },
    {
      "cell_type": "code",
      "source": [
        "def load_from_file(filename):\n",
        "  if not os.path.exists(filename):\n",
        "    print(\"File not found.Starting with an empty library\")\n",
        "    return\n",
        "  try:\n",
        "    with open(filename,'r') as f:\n",
        "      for line in f:\n",
        "        title,author,genre,year,status = line.strip().split(',')\n",
        "        add_book(title,author,genre,int(year),status)\n",
        "  except Exception as e:\n",
        "    print(\"Error reading file:\",e)"
      ],
      "metadata": {
        "id": "-orgLjxPtxs-"
      },
      "execution_count": 16,
      "outputs": []
    },
    {
      "cell_type": "code",
      "source": [
        "def menu():\n",
        "  while True:\n",
        "    print(\"1. Add Book\")\n",
        "    print(\"2. List All Books\")\n",
        "    print(\"3. List Books Sorted by year\")\n",
        "    print(\"4. Search by author\")\n",
        "    print(\"5. Delete Book by title\")\n",
        "    print(\"6. Show reading summary\")\n",
        "    print(\"7. Show UPPERCASE Book Titles(map)\")\n",
        "    print(\"8. Save library\")\n",
        "    print(\"9. Load library\")\n",
        "    print(\"10.Exit\")\n",
        "    choice = input(\"Choose an option: \")\n",
        "\n",
        "    if choice == \"1\":\n",
        "      title = input(\"Title: \")\n",
        "      author = input(\"Author: \")\n",
        "      genre = input(\"Genre: \")\n",
        "      year = input(\"Year: \")\n",
        "      status = input(\"Status (read/unread): \")\n",
        "      add_bks(title, author, genre, year, status)\n",
        "    elif choice == \"2\":\n",
        "      list_books()\n",
        "    elif choice == \"3\":\n",
        "      list_books(sorted_by_year=True)\n",
        "    elif choice == \"4\":\n",
        "      author = input(\"Enter author name: \")\n",
        "      results = srch_by_author(author)\n",
        "      print(f\"\\n Found {len(results)} books by {author}:\")\n",
        "      for book in results:\n",
        "        print(f\"- {book['title']} ({book['year']})\")\n",
        "    elif choice == \"5\":\n",
        "      title = input(\"Enter title to delete: \")\n",
        "      delete_book(title)\n",
        "    elif choice == \"6\":\n",
        "      show_reading_summary()\n",
        "    elif choice == \"7\":\n",
        "      uppercase_titles()\n",
        "    elif choice == \"8\":\n",
        "      save_to_file(\"books_data.txt\")\n",
        "    elif choice == \"9\":\n",
        "      load_from_file(\"books_data.txt\")\n",
        "    elif choice == \"10\":\n",
        "      print(\"Goodbye!\")\n",
        "      break\n",
        "    else:\n",
        "      print(\"Invalid option. Try again.\")\n",
        "\n",
        "\n",
        "\n",
        "# Running Your Library App with the Final Command\n",
        "if __name__ == \"__main__\": # This line checks how the Python file is being run.\n",
        "    menu()"
      ],
      "metadata": {
        "colab": {
          "base_uri": "https://localhost:8080/"
        },
        "id": "AYU8rxf7v16Y",
        "outputId": "7953b3dc-938a-48f5-b5b8-7dc041f9db76"
      },
      "execution_count": null,
      "outputs": [
        {
          "output_type": "stream",
          "name": "stdout",
          "text": [
            "1. Add Book\n",
            "2. List All Books\n",
            "3. List Books Sorted by year\n",
            "4. Search by author\n",
            "5. Delete Book by title\n",
            "6. Show reading summary\n",
            "7. Show UPPERCASE Book Titles(map)\n",
            "8. Save library\n",
            "9. Load library\n",
            "10.Exit\n",
            "Choose an option: \n",
            "Invalid option. Try again.\n",
            "1. Add Book\n",
            "2. List All Books\n",
            "3. List Books Sorted by year\n",
            "4. Search by author\n",
            "5. Delete Book by title\n",
            "6. Show reading summary\n",
            "7. Show UPPERCASE Book Titles(map)\n",
            "8. Save library\n",
            "9. Load library\n",
            "10.Exit\n"
          ]
        }
      ]
    },
    {
      "cell_type": "code",
      "source": [
        "print(dir())"
      ],
      "metadata": {
        "colab": {
          "base_uri": "https://localhost:8080/"
        },
        "id": "fxAYJ4SDyfc7",
        "outputId": "eb5c9fb8-8501-429f-c3b6-7011934bbf72"
      },
      "execution_count": 18,
      "outputs": [
        {
          "output_type": "stream",
          "name": "stdout",
          "text": [
            "['In', 'Out', '_', '__', '___', '__builtin__', '__builtins__', '__doc__', '__loader__', '__name__', '__package__', '__spec__', '_dh', '_i', '_i1', '_i10', '_i11', '_i13', '_i15', '_i16', '_i17', '_i18', '_i2', '_i3', '_i4', '_i5', '_i6', '_i7', '_i8', '_i9', '_ih', '_ii', '_iii', '_oh', 'exit', 'get_ipython', 'load_from_file', 'menu', 'quit', 'save_to_file', 'show_reading_summary', 'uppercase_titles']\n"
          ]
        }
      ]
    },
    {
      "cell_type": "code",
      "source": [],
      "metadata": {
        "id": "B8fpJUD8yo7v"
      },
      "execution_count": 20,
      "outputs": []
    },
    {
      "cell_type": "code",
      "source": [],
      "metadata": {
        "id": "lQl03dKqyx_x"
      },
      "execution_count": null,
      "outputs": []
    }
  ]
}